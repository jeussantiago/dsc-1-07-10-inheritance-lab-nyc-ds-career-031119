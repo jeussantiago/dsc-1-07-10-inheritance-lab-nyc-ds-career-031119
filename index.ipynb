{
 "cells": [
  {
   "cell_type": "markdown",
   "metadata": {},
   "source": [
    "# Inheritance - Lab\n",
    "\n",
    "## Introduction\n",
    "\n",
    "In this lab, we'll use what we've learned about inheritance to model a zoo using superclasses, subclasses, and maybe even an abstract superclass!\n",
    "\n",
    "## Objectives\n",
    "\n",
    "You will be able to:\n",
    "\n",
    "* Use inheritance to to write D.R.Y. code\n",
    "* Understand the relationship between subclasses and superclasses\n",
    "* Create Object-Oriented data models that describe the real world with classes and subclasses\n",
    "\n",
    "## Modeling a Zoo\n",
    "\n",
    "Consider the following scenario:  You've been hired by a zookeeper to build a program that keeps track of all the animals in the zoo.  This is a great opportunity to make use of Inheritance and Object-Oriented Programming!\n",
    "\n",
    "## Creating an Abstract Superclass\n",
    "\n",
    "Start by creating an abstract superclass, `Animal`.  When our program is complete, all subclasses of `Animal` will have the following attributes:\n",
    "\n",
    "* `name`, which is a string set at instantation time\n",
    "* `size`, which can be `'small'`, `'medium'`, `'large'`, or `'enormous'`.\n",
    "* `weight`, which is an integer set at integer set at instantiation time.\n",
    "* `species`, a string that tells us the species of the animal\n",
    "* `food_type`, which can be `'herbivore'`, `'carnivore'`, or `'omnivore'`\n",
    "* `nocturnal`, a boolean value that is `True` if the animal sleeps during the day, otherwise `False`\n",
    "\n",
    "They'll also have the following behaviors:\n",
    "\n",
    "* `sleep`, which prints a string saying if the animal sleeps during day or night\n",
    "* `eat`, which takes in the string `plants` or `meat`, and returns `'{animal name} the {animal species} thinks {food} is yummy!'` or `'I don't eat this!'` based on the animal's `food_type` attribute. \n",
    "\n",
    "In the cell below, create an abstract superclass that meets these specifications.\n",
    "\n",
    "**_NOTE:_** For some attributes in an abstract superclass such as `size`, the initial value doesn't matter--just make sure that you remember to override it in each of the subclasses!"
   ]
  },
  {
   "cell_type": "code",
   "execution_count": 139,
   "metadata": {},
   "outputs": [],
   "source": [
    "class Animal(object):\n",
    "    def __init__(self, name, species, weight=0, size ='small', food_type='herbivore', nocturnal=False):\n",
    "        self.name = name\n",
    "        self.size = size\n",
    "        self.weight = 0\n",
    "        self.species = species\n",
    "        self.food_type = food_type\n",
    "        self.nocturnal = nocturnal\n",
    "        \n",
    "    def sleep(self):\n",
    "        if self.nocturnal:\n",
    "            self.sleep = \"{}s sleeps during the day\".format(self.species)\n",
    "        else:\n",
    "            self.sleep = \"{}s sleeps during the night\".format(self.species)\n",
    "            \n",
    "    def eat(self, food):\n",
    "        food_type = 'herbivore'\n",
    "        if food =='meat':\n",
    "            food_type = 'carnivore'\n",
    "            \n",
    "        if food_type == self.food_type or self.food_type == 'omnivore':\n",
    "            print(\"{} the {} thinks {} is yummy!\".format(self.name, self.species, food))\n",
    "        else:\n",
    "            print(\"I don't eat this!\")"
   ]
  },
  {
   "cell_type": "markdown",
   "metadata": {},
   "source": [
    "Great! Now that we have our Abstract Superclass, we can begin building out the specific animal classes.\n",
    "\n",
    "In the cell below, complete the `Elephant` class.  This class should:\n",
    "\n",
    "* Subclass `Animal`\n",
    "* Have a species of `'elephant'`\n",
    "* Have a size of `'enormous'`\n",
    "* Have a food type of `'herbivore'`\n",
    "* Set nocturnal to `False`\n",
    "\n",
    "**_Hint:_** Remember to make use of the `super()` object during initialization, and be sure to pass in the values it expects at instantiation time!"
   ]
  },
  {
   "cell_type": "code",
   "execution_count": 122,
   "metadata": {},
   "outputs": [],
   "source": [
    "class Elephant(Animal):\n",
    "    def __init__(self, name, weight):\n",
    "        super().__init__(name,'elephant', weight, 'enormous')\n",
    "        "
   ]
  },
  {
   "cell_type": "markdown",
   "metadata": {},
   "source": [
    "Great! Now, in the cell below, create a `Tiger` class.  This class should:\n",
    "\n",
    "* Subclass `Animal`\n",
    "* Have a species of `'tiger'`\n",
    "* Have a size of `'large'`\n",
    "* Have a food type of `'carnivore'`\n",
    "* Set nocturnal to `True`"
   ]
  },
  {
   "cell_type": "code",
   "execution_count": 132,
   "metadata": {},
   "outputs": [],
   "source": [
    "class Tiger(Animal):\n",
    "    def __init__(self, name, weight):\n",
    "        super().__init__(name, 'tiger', weight, 'large', 'carnivore',nocturnal=True)\n",
    "       \n"
   ]
  },
  {
   "cell_type": "markdown",
   "metadata": {},
   "source": [
    "Great! 2 More classes to go. In the cell below, create a `Raccoon` class.  This class should:\n",
    "\n",
    "* Subclass `Animal`\n",
    "* Have a species of `raccoon`\n",
    "* Have a size of `'small'`\n",
    "* Have a food type of `'omnivore'`\n",
    "* Set nocturnal to `True`"
   ]
  },
  {
   "cell_type": "code",
   "execution_count": 133,
   "metadata": {},
   "outputs": [],
   "source": [
    "class Raccoon(Animal):\n",
    "    def __init__(self, name, weight):\n",
    "        super().__init__(name, 'raccoon', weight, food_type='omnivore',nocturnal=True)\n"
   ]
  },
  {
   "cell_type": "markdown",
   "metadata": {},
   "source": [
    "Finally, let's create a `Gorilla` class.  This class should:\n",
    "\n",
    "* Subclass `Animal`\n",
    "* Have a species of `gorilla`\n",
    "* Have a size of `'Large'`\n",
    "* Have a food type of `'herbivore'`\n",
    "* Set nocturnal to `False`"
   ]
  },
  {
   "cell_type": "code",
   "execution_count": 125,
   "metadata": {},
   "outputs": [],
   "source": [
    "class Gorilla(Animal):\n",
    "    def __init__(self, name, weight):\n",
    "        super().__init__(name, 'gorilla', weight, 'Large')\n"
   ]
  },
  {
   "cell_type": "markdown",
   "metadata": {},
   "source": [
    "## Using Our Objects\n",
    "\n",
    "Now that we've created classes to model each of the animals in the zoo, we'll write a function that helps us keep track of when to feed different animals.  But, before we can do that, we need to populate our zoo!\n",
    "\n",
    "In the cell below, create an array called `zoo`.  Then, complete the `add_animal_to_zoo` function. \n",
    "\n",
    "This function should take in the following parameters:\n",
    "\n",
    "* `zoo`, an array representing the current state of the zoo\n",
    "* `animal_type`, a string.  Can be `'Gorilla'`, `'Raccoon'`, `'Tiger'`, or `'Elephant'`.\n",
    "* `name`, the name of the animal being created\n",
    "* `weight`, the weight of the animal being created\n",
    "\n",
    "The function should then:\n",
    "\n",
    "* use `animal_type` to determine which object to create\n",
    "* Create an instance of that animal, passing in the `name` and `weight`\n",
    "* Append the newly created animal to `zoo`\n",
    "* Return `zoo`"
   ]
  },
  {
   "cell_type": "code",
   "execution_count": 134,
   "metadata": {},
   "outputs": [],
   "source": [
    "def add_animal_to_zoo(zoo, animal_type, name, weight):\n",
    "    if animal_type == 'Gorilla':\n",
    "        name = Gorilla(name,weight)\n",
    "        zoo.append(name)\n",
    "    elif animal_type == 'Raccoon':\n",
    "        name = Raccoon(name,weight)\n",
    "        zoo.append(name)\n",
    "    elif animal_type == 'Tiger':\n",
    "        name = Tiger(name,weight)\n",
    "        zoo.append(name)\n",
    "    elif animal_type == 'Elephant':\n",
    "        name = Elephant(name,weight)\n",
    "        zoo.append(name)"
   ]
  },
  {
   "cell_type": "markdown",
   "metadata": {},
   "source": [
    "Great! Now, let's add some animals to our zoo. \n",
    "\n",
    "Create the following animals and add them to our zoo.  The names and weights are up to you.\n",
    "\n",
    "* 2 Elephants\n",
    "* 2 Raccons\n",
    "* 1 Gorilla\n",
    "* 3 Tigers"
   ]
  },
  {
   "cell_type": "code",
   "execution_count": 135,
   "metadata": {},
   "outputs": [
    {
     "data": {
      "text/plain": [
       "[<__main__.Elephant at 0x7fe93c093fd0>,\n",
       " <__main__.Elephant at 0x7fe93c09f0b8>,\n",
       " <__main__.Raccoon at 0x7fe93c09f128>,\n",
       " <__main__.Raccoon at 0x7fe93c09f160>,\n",
       " <__main__.Gorilla at 0x7fe93c09f198>,\n",
       " <__main__.Tiger at 0x7fe93c09f1d0>,\n",
       " <__main__.Tiger at 0x7fe93c09f0f0>,\n",
       " <__main__.Tiger at 0x7fe93c09f240>]"
      ]
     },
     "execution_count": 135,
     "metadata": {},
     "output_type": "execute_result"
    }
   ],
   "source": [
    "# Create your animals and add them to the 'zoo' in this cell!\n",
    "zoo=[]\n",
    "add_animal_to_zoo(zoo, 'Elephant', \"Ele\", 5000)\n",
    "add_animal_to_zoo(zoo, 'Elephant', \"Phant\", 8000)\n",
    "add_animal_to_zoo(zoo, 'Raccoon', \"Rac\", 50)\n",
    "add_animal_to_zoo(zoo, 'Raccoon', \"Con\", 40)\n",
    "add_animal_to_zoo(zoo, 'Gorilla', \"Go\", 1000)\n",
    "add_animal_to_zoo(zoo, 'Tiger', \"Tiger\", 1400)\n",
    "add_animal_to_zoo(zoo, 'Tiger', \"Poo\", 1600)\n",
    "add_animal_to_zoo(zoo, 'Tiger', \"Tails\", 1500)\n",
    "zoo"
   ]
  },
  {
   "cell_type": "markdown",
   "metadata": {},
   "source": [
    "Great! Now that we have a populated zoo, we can do what the zookeeper hired us to do--write a program that feeds the correct animals the right food at the right times!\n",
    "\n",
    "To do this, we'll write a function called `feed_animals`.  This function should take in two arguments:\n",
    "\n",
    "* `zoo`, the zoo array containing all the animals\n",
    "* `time`, which can be `'Day'` or `'Night'`.  This should default to day if nothing is entered for `time`.\n",
    "\n",
    "This function should:\n",
    "\n",
    "* Feed only the non-nocturnal animals if `time='Day'`, or only the nocturnal animals if `time='Night'`\n",
    "* Check the food type of each animal before feeding.  If the animal is a carnivore, feed it `meat`; otherwise, feed it `plants`. Feed the animals by using their `.eat()` method."
   ]
  },
  {
   "cell_type": "code",
   "execution_count": 136,
   "metadata": {},
   "outputs": [],
   "source": [
    "def feed_animals(zoo, time='Day'):\n",
    "    for animal in zoo:\n",
    "        #print(animal.nocturnal)\n",
    "        if time == 'Day':\n",
    "            if animal.nocturnal == False: #animal wake during day time\n",
    "                if animal.food_type == 'carnivore': #feed meat\n",
    "                    animal.eat('meat')\n",
    "                else: #feed plants\n",
    "                    animal.eat('plants')\n",
    "        else:\n",
    "            if animal.nocturnal: #animal awake at night\n",
    "                if animal.food_type == 'carnivore': #feed meat\n",
    "                    animal.eat('meat')\n",
    "                else: #feed plants\n",
    "                    animal.eat('plants')\n",
    "       \n",
    "  \n",
    "            "
   ]
  },
  {
   "cell_type": "markdown",
   "metadata": {},
   "source": [
    "Now, let's test out our program.  Call the function for a daytime feeding below."
   ]
  },
  {
   "cell_type": "code",
   "execution_count": 137,
   "metadata": {},
   "outputs": [
    {
     "name": "stdout",
     "output_type": "stream",
     "text": [
      "Ele the elephant thinks plants is yummy!\n",
      "Phant the elephant thinks plants is yummy!\n",
      "Go the gorilla thinks plants is yummy!\n"
     ]
    }
   ],
   "source": [
    "feed_animals(zoo,'Day')"
   ]
  },
  {
   "cell_type": "markdown",
   "metadata": {},
   "source": [
    "That looks correct--the two species that we have that aren't nocturnal are elephants and gorillas.  \n",
    "\n",
    "In the cell below, call `feed_animals` again, but this time set `time='Night'`"
   ]
  },
  {
   "cell_type": "code",
   "execution_count": 138,
   "metadata": {},
   "outputs": [
    {
     "name": "stdout",
     "output_type": "stream",
     "text": [
      "Rac the raccoon thinks plants is yummy!\n",
      "Con the raccoon thinks plants is yummy!\n",
      "Tiger the tiger thinks meat is yummy!\n",
      "Poo the tiger thinks meat is yummy!\n",
      "Tails the tiger thinks meat is yummy!\n"
     ]
    }
   ],
   "source": [
    "feed_animals(zoo,'Night')"
   ]
  },
  {
   "cell_type": "markdown",
   "metadata": {},
   "source": [
    "Thats it! You've used OOP and inheritance to build a working function to help the zookeeper feed his animals the right food at the correct times!\n",
    "\n",
    "## Summary\n",
    "\n",
    "In this lab, you learned how to:\n",
    "\n",
    "* Use inheritance to to write D.R.Y. code\n",
    "* Understand the relationship between subclasses and superclasses\n",
    "* Create Object-Oriented data models that describe the real world with classes and subclasses"
   ]
  }
 ],
 "metadata": {
  "kernelspec": {
   "display_name": "Python 3",
   "language": "python",
   "name": "python3"
  },
  "language_info": {
   "codemirror_mode": {
    "name": "ipython",
    "version": 3
   },
   "file_extension": ".py",
   "mimetype": "text/x-python",
   "name": "python",
   "nbconvert_exporter": "python",
   "pygments_lexer": "ipython3",
   "version": "3.6.6"
  }
 },
 "nbformat": 4,
 "nbformat_minor": 2
}
